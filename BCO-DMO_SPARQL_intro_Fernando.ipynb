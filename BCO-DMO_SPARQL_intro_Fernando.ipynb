{
 "cells": [
  {
   "cell_type": "code",
   "execution_count": null,
   "metadata": {
    "ExecuteTime": {
     "end_time": "2020-07-09T22:20:01.155413Z",
     "start_time": "2020-07-09T22:20:00.712856Z"
    }
   },
   "outputs": [],
   "source": [
    "import json\n",
    "import os\n",
    "import sys\n",
    "import rdflib\n",
    "from SPARQLWrapper import SPARQLWrapper, JSON\n",
    "import pandas as pd\n",
    "import numpy as np"
   ]
  },
  {
   "cell_type": "markdown",
   "metadata": {
    "ExecuteTime": {
     "end_time": "2020-06-22T04:50:57.372993Z",
     "start_time": "2020-06-22T04:50:57.370397Z"
    }
   },
   "source": [
    "## Setup SPARQL / Python Interface"
   ]
  },
  {
   "cell_type": "markdown",
   "metadata": {
    "ExecuteTime": {
     "end_time": "2020-06-22T04:51:53.573664Z",
     "start_time": "2020-06-22T04:51:53.567740Z"
    }
   },
   "source": [
    "### Define SPARQL Request Function"
   ]
  },
  {
   "cell_type": "code",
   "execution_count": null,
   "metadata": {
    "ExecuteTime": {
     "end_time": "2020-07-09T22:20:05.113276Z",
     "start_time": "2020-07-09T22:20:05.104323Z"
    }
   },
   "outputs": [],
   "source": [
    "#Credit - Doug Fils\n",
    "\n",
    "def get_sparql_dataframe(service, query):\n",
    "    \"\"\"\n",
    "    Helper function to convert SPARQL results into a Pandas data frame.\n",
    "    \"\"\"\n",
    "    sparql = SPARQLWrapper(service)\n",
    "    sparql.setQuery(query)\n",
    "    sparql.setReturnFormat(JSON)\n",
    "    result = sparql.query()\n",
    "\n",
    "    processed_results = json.load(result.response)\n",
    "    cols = processed_results['head']['vars']\n",
    "\n",
    "    out = []\n",
    "    for row in processed_results['results']['bindings']:\n",
    "        item = []\n",
    "        for c in cols:\n",
    "            item.append(row.get(c, {}).get('value'))\n",
    "        out.append(item)\n",
    "\n",
    "    return pd.DataFrame(out, columns=cols)"
   ]
  },
  {
   "cell_type": "markdown",
   "metadata": {},
   "source": [
    "### Set SPARQL Endpoint and base URIs"
   ]
  },
  {
   "cell_type": "code",
   "execution_count": null,
   "metadata": {
    "ExecuteTime": {
     "end_time": "2020-07-09T22:20:06.821943Z",
     "start_time": "2020-07-09T22:20:06.817632Z"
    }
   },
   "outputs": [],
   "source": [
    "BCODMO_SERVE = \"https://lod.bco-dmo.org/sparql\"  #BCO-DMO SPARQL Endpoint\n",
    "BCODMO_PREF = \"http://lod.bco-dmo.org/id/\"       #BCO-DMO URI base"
   ]
  },
  {
   "cell_type": "markdown",
   "metadata": {},
   "source": [
    "## Basic SPARQL Queries\n",
    "SPARQL is queried in as a string. Can define variables within SPARQL, then query result will be returned in dataframe format which can be used as python variables. Can also return SPARQL query in other formats (like straight json or lists). \n",
    "\n",
    "**NOTE:** The BCO-DMO SPARQL endpoint (like many public SPARQL endpoints) limits results to 10,000.\n",
    "\n",
    "Helpful SPARQL Cheat Sheet: http://www.iro.umontreal.ca/~lapalme/ift6281/sparql-1_1-cheat-sheet.pdf"
   ]
  },
  {
   "cell_type": "markdown",
   "metadata": {
    "ExecuteTime": {
     "end_time": "2020-06-22T05:03:28.357003Z",
     "start_time": "2020-06-22T05:03:28.349012Z"
    }
   },
   "source": [
    "### Properties (\"predicates\" in Subject-Predicate-Object model) in BCO-DMO\n",
    "\n",
    "Also see https://ocean-data.org/schema/ for ontology"
   ]
  },
  {
   "cell_type": "markdown",
   "metadata": {
    "ExecuteTime": {
     "end_time": "2020-06-22T04:57:29.632725Z",
     "start_time": "2020-06-22T04:57:29.628338Z"
    }
   },
   "source": [
    "#### List all the properties in the BCO-DMO Knowledge Graph"
   ]
  },
  {
   "cell_type": "code",
   "execution_count": null,
   "metadata": {
    "ExecuteTime": {
     "end_time": "2020-07-08T21:28:06.537114Z",
     "start_time": "2020-07-08T21:28:06.520930Z"
    }
   },
   "outputs": [],
   "source": [
    "propertyQuery = '''\n",
    "SELECT DISTINCT ?property\n",
    "WHERE { [] ?property [] }\n",
    "ORDER BY ?property\n",
    "'''"
   ]
  },
  {
   "cell_type": "code",
   "execution_count": null,
   "metadata": {
    "ExecuteTime": {
     "end_time": "2020-07-08T21:28:11.498629Z",
     "start_time": "2020-07-08T21:28:08.720395Z"
    }
   },
   "outputs": [],
   "source": [
    "propertySearch = get_sparql_dataframe(BCODMO_SERVE, propertyQuery)"
   ]
  },
  {
   "cell_type": "code",
   "execution_count": null,
   "metadata": {
    "ExecuteTime": {
     "end_time": "2020-07-08T21:28:14.852445Z",
     "start_time": "2020-07-08T21:28:11.558007Z"
    }
   },
   "outputs": [],
   "source": [
    "propertySearch.style.set_properties(**{'width': '600px'})"
   ]
  },
  {
   "cell_type": "markdown",
   "metadata": {},
   "source": [
    "#### Get more information about the properties"
   ]
  },
  {
   "cell_type": "code",
   "execution_count": null,
   "metadata": {
    "ExecuteTime": {
     "end_time": "2020-07-08T21:28:51.385046Z",
     "start_time": "2020-07-08T21:28:51.369202Z"
    }
   },
   "outputs": [],
   "source": [
    "propertyQuery = '''\n",
    "SELECT DISTINCT ?dataset_parameter ?masterParam\n",
    "WHERE { ?dataset_parameter odo:isInstanceOf ?masterParam  .\n",
    "}\n",
    "'''"
   ]
  },
  {
   "cell_type": "code",
   "execution_count": null,
   "metadata": {
    "ExecuteTime": {
     "end_time": "2020-07-08T21:28:59.950374Z",
     "start_time": "2020-07-08T21:28:52.389380Z"
    }
   },
   "outputs": [],
   "source": [
    "propertySearch = get_sparql_dataframe(BCODMO_SERVE, propertyQuery)"
   ]
  },
  {
   "cell_type": "code",
   "execution_count": null,
   "metadata": {
    "ExecuteTime": {
     "end_time": "2020-07-08T21:29:12.097861Z",
     "start_time": "2020-07-08T21:29:01.124703Z"
    }
   },
   "outputs": [],
   "source": [
    "propertySearch.style.set_properties(**{'width': '600px'})"
   ]
  },
  {
   "cell_type": "markdown",
   "metadata": {
    "ExecuteTime": {
     "end_time": "2020-06-22T06:07:54.955586Z",
     "start_time": "2020-06-22T06:07:54.952431Z"
    }
   },
   "source": [
    "#### Find out more about \"Monitored Properties\""
   ]
  },
  {
   "cell_type": "code",
   "execution_count": null,
   "metadata": {
    "ExecuteTime": {
     "end_time": "2020-07-08T21:29:25.700026Z",
     "start_time": "2020-07-08T21:29:25.692140Z"
    }
   },
   "outputs": [],
   "source": [
    "monitoredPropertiesQuery = '''\n",
    "SELECT DISTINCT ?masterParam ?shortDesc\n",
    "WHERE { \n",
    "?masterParam odo:hasParameterShortDescription ?shortDesc .\n",
    "?masterParam owl:deprecated 0 . #Binay - only show those that are not deprecated\n",
    "}\n",
    "ORDER BY ?masterParam'''"
   ]
  },
  {
   "cell_type": "code",
   "execution_count": null,
   "metadata": {
    "ExecuteTime": {
     "end_time": "2020-07-08T21:29:29.712429Z",
     "start_time": "2020-07-08T21:29:28.281398Z"
    }
   },
   "outputs": [],
   "source": [
    "monitoredPropertiesSearch = get_sparql_dataframe(BCODMO_SERVE, monitoredPropertiesQuery)"
   ]
  },
  {
   "cell_type": "code",
   "execution_count": null,
   "metadata": {
    "ExecuteTime": {
     "end_time": "2020-07-08T21:29:32.003830Z",
     "start_time": "2020-07-08T21:29:30.785727Z"
    }
   },
   "outputs": [],
   "source": [
    "monitoredPropertiesSearch.style.set_properties(**{'width': '600px'})"
   ]
  },
  {
   "cell_type": "markdown",
   "metadata": {},
   "source": [
    "#### DESCRIBE a monitored property"
   ]
  },
  {
   "cell_type": "code",
   "execution_count": null,
   "metadata": {
    "ExecuteTime": {
     "end_time": "2020-07-08T21:33:21.457005Z",
     "start_time": "2020-07-08T21:33:21.446950Z"
    }
   },
   "outputs": [],
   "source": [
    "monitoredPropertiesQuery = '''\n",
    "DESCRIBE <http://lod.bco-dmo.org/id/parameter/901>\n",
    "'''"
   ]
  },
  {
   "cell_type": "code",
   "execution_count": null,
   "metadata": {
    "ExecuteTime": {
     "end_time": "2020-07-08T21:34:34.663940Z",
     "start_time": "2020-07-08T21:34:33.669033Z"
    }
   },
   "outputs": [],
   "source": [
    "monitoredPropertiesSearch = get_sparql_dataframe(BCODMO_SERVE, monitoredPropertiesQuery)\n",
    "#ignore the error"
   ]
  },
  {
   "cell_type": "code",
   "execution_count": null,
   "metadata": {
    "ExecuteTime": {
     "end_time": "2020-07-08T21:34:41.976652Z",
     "start_time": "2020-07-08T21:34:41.580151Z"
    }
   },
   "outputs": [],
   "source": [
    "monitoredPropertiesSearch.style.set_properties(**{'width': '600px'})"
   ]
  },
  {
   "cell_type": "markdown",
   "metadata": {},
   "source": [
    "### Fernando Question:\n",
    "How can we track the Salinity (water bottle) results from the Salinometer all the way up to BCO-DMO Parameters repository ? Not just the results, but also including reports, sensors, persons involved… can we include DOI’s? What would be the steps?"
   ]
  },
  {
   "cell_type": "markdown",
   "metadata": {},
   "source": [
    "First, you need to find the parameters you are interested in: look up the Ocean Data Ontology Schema which can be found here: https://ocean-data.org/schema/ . Explore the browse feature on the BCO-DMO SPARQL endpoint to get familiar with the structure of the data: https://lod.bco-dmo.org/browse/\n",
    "\n",
    "You can also look up what master parameters you are interested in finding. If looking for Salinity from a water bottle (as opposed to the CTD), you can find it listed here: https://www.bco-dmo.org/search/parameter/salinity?size=20&sort=relevance. To note: it appears we have multiple entries in the \"master parameters\" that are associated with water bottle salinity, we are aware of these duplications and this is something we are actively working on right now. For now, the master parameters of interest appear to be \"sal_bottle\", \"sal_bot\", and \"sal_niskin\". We'll start with those three.\n",
    "\n",
    "If you click on \"sal_bottle\", you'll be re-directed to the site https://www.bco-dmo.org/parameter/956 -- here, you can see that this is then parameter #956. A way to get this information viq SPARQL would be to use the property skos:prefLabel which for this parameter is \"sal_bottle\"@en-us"
   ]
  },
  {
   "cell_type": "code",
   "execution_count": null,
   "metadata": {
    "ExecuteTime": {
     "end_time": "2020-07-12T00:35:25.064899Z",
     "start_time": "2020-07-12T00:35:25.055185Z"
    }
   },
   "outputs": [],
   "source": [
    "#Write a SPARQL query to pull those three parameters and the datasets that have them\n",
    "propertyQuery = '''\n",
    "SELECT DISTINCT ?masterParam ?shortDesc\n",
    "WHERE { \n",
    "VALUES (?shortDesc) {(\"sal_bot\"@en-us) (\"sal_nis\"@en-us) (\"sal_bottle\"@en-us)} .\n",
    "?masterParam skos:prefLabel ?shortDesc .\n",
    "?masterParam rdf:type odo:MonitoredProperty . #This states that we are only looking for the master parameters\n",
    "}\n",
    "'''"
   ]
  },
  {
   "cell_type": "code",
   "execution_count": null,
   "metadata": {
    "ExecuteTime": {
     "end_time": "2020-07-12T00:35:26.332599Z",
     "start_time": "2020-07-12T00:35:25.747187Z"
    }
   },
   "outputs": [],
   "source": [
    "propertySearch = get_sparql_dataframe(BCODMO_SERVE, propertyQuery)"
   ]
  },
  {
   "cell_type": "code",
   "execution_count": null,
   "metadata": {
    "ExecuteTime": {
     "end_time": "2020-07-12T00:35:26.592070Z",
     "start_time": "2020-07-12T00:35:26.569951Z"
    }
   },
   "outputs": [],
   "source": [
    "propertySearch.style.set_properties(**{'width': '600px'})"
   ]
  },
  {
   "cell_type": "code",
   "execution_count": null,
   "metadata": {
    "ExecuteTime": {
     "end_time": "2020-07-12T00:35:27.517970Z",
     "start_time": "2020-07-12T00:35:27.505291Z"
    }
   },
   "outputs": [],
   "source": [
    "#Now we can add to this query to look for all the times these master parameters occur in datasets. \n",
    "propertyQuery2 = '''\n",
    "SELECT DISTINCT ?datasetParameter ?masterParam ?shortDesc\n",
    "WHERE { \n",
    "VALUES (?shortDesc) {(\"sal_bot\"@en-us) (\"sal_nis\"@en-us) (\"sal_bottle\"@en-us)} .\n",
    "?masterParam skos:prefLabel ?shortDesc .\n",
    "?masterParam rdf:type odo:MonitoredProperty .\n",
    "?datasetParameter odo:isInstanceOf ?masterParam  .\n",
    "}\n",
    "'''"
   ]
  },
  {
   "cell_type": "code",
   "execution_count": null,
   "metadata": {
    "ExecuteTime": {
     "end_time": "2020-07-12T00:35:29.436670Z",
     "start_time": "2020-07-12T00:35:28.598023Z"
    }
   },
   "outputs": [],
   "source": [
    "propertySearch2 = get_sparql_dataframe(BCODMO_SERVE, propertyQuery2)"
   ]
  },
  {
   "cell_type": "code",
   "execution_count": null,
   "metadata": {
    "ExecuteTime": {
     "end_time": "2020-07-12T00:35:29.769898Z",
     "start_time": "2020-07-12T00:35:29.713661Z"
    }
   },
   "outputs": [],
   "source": [
    "propertySearch2.style.set_properties(**{'width': '600px'})"
   ]
  },
  {
   "cell_type": "code",
   "execution_count": null,
   "metadata": {
    "ExecuteTime": {
     "end_time": "2020-07-12T00:35:30.902071Z",
     "start_time": "2020-07-12T00:35:30.888442Z"
    }
   },
   "outputs": [],
   "source": [
    "#From the dataset parameters, we can pull the specific datasets and the metadata associated with the datasets\n",
    "propertyQuery3 = '''\n",
    "SELECT DISTINCT ?dataset ?datasetURL ?datasetParameter ?masterParam ?shortDesc\n",
    "WHERE { \n",
    "VALUES (?shortDesc) {(\"sal_bot\"@en-us) (\"sal_nis\"@en-us) (\"sal_bottle\"@en-us)} .\n",
    "?masterParam skos:prefLabel ?shortDesc .\n",
    "?masterParam rdf:type odo:MonitoredProperty .\n",
    "?datasetParameter odo:isInstanceOf ?masterParam  .\n",
    "?dataset odo:storesValuesFor ?datasetParameter .\n",
    "?dataset odo:osprey_page ?datasetURL .\n",
    "}\n",
    "'''"
   ]
  },
  {
   "cell_type": "code",
   "execution_count": null,
   "metadata": {
    "ExecuteTime": {
     "end_time": "2020-07-12T00:35:32.711553Z",
     "start_time": "2020-07-12T00:35:31.604216Z"
    }
   },
   "outputs": [],
   "source": [
    "propertySearch3 = get_sparql_dataframe(BCODMO_SERVE, propertyQuery3)"
   ]
  },
  {
   "cell_type": "code",
   "execution_count": null,
   "metadata": {
    "ExecuteTime": {
     "end_time": "2020-07-12T00:35:33.513999Z",
     "start_time": "2020-07-12T00:35:33.241690Z"
    }
   },
   "outputs": [],
   "source": [
    "propertySearch3.style.set_properties(**{'width': '600px'})"
   ]
  },
  {
   "cell_type": "code",
   "execution_count": null,
   "metadata": {
    "ExecuteTime": {
     "end_time": "2020-07-12T00:35:34.905756Z",
     "start_time": "2020-07-12T00:35:34.890452Z"
    }
   },
   "outputs": [],
   "source": [
    "#Now you can also start to pull information about the dataset as a whole. Recommend using the OPTIONAL\n",
    "#call as datasets that do not have the features you are looking for will not be returned without it\n",
    "propertyQuery4 = '''\n",
    "SELECT DISTINCT ?dataset ?datasetURL ?datasetTitle ?role ?datasetParameter ?masterParam ?shortDesc\n",
    "WHERE { \n",
    "VALUES (?shortDesc) {(\"sal_bot\"@en-us) (\"sal_nis\"@en-us) (\"sal_bottle\"@en-us)} .\n",
    "?masterParam skos:prefLabel ?shortDesc .\n",
    "?masterParam rdf:type odo:MonitoredProperty .\n",
    "?datasetParameter odo:isInstanceOf ?masterParam  .\n",
    "?dataset odo:storesValuesFor ?datasetParameter .\n",
    "?dataset odo:osprey_page ?datasetURL . \n",
    "OPTIONAL {\n",
    "?dataset odo:datasetTitle ?datasetTitle .\n",
    "?dataset odo:hasAgentWithRole ?person .\n",
    "?person dcterms:description ?role .\n",
    "}\n",
    "}\n",
    "'''"
   ]
  },
  {
   "cell_type": "code",
   "execution_count": null,
   "metadata": {
    "ExecuteTime": {
     "end_time": "2020-07-12T00:35:37.531256Z",
     "start_time": "2020-07-12T00:35:35.908392Z"
    }
   },
   "outputs": [],
   "source": [
    "propertySearch4 = get_sparql_dataframe(BCODMO_SERVE, propertyQuery4)"
   ]
  },
  {
   "cell_type": "code",
   "execution_count": null,
   "metadata": {
    "ExecuteTime": {
     "end_time": "2020-07-12T00:35:38.869807Z",
     "start_time": "2020-07-12T00:35:38.179117Z"
    }
   },
   "outputs": [],
   "source": [
    "propertySearch4.style.set_properties(**{'width': '600px'})"
   ]
  },
  {
   "cell_type": "code",
   "execution_count": null,
   "metadata": {},
   "outputs": [],
   "source": []
  }
 ],
 "metadata": {
  "hide_input": false,
  "kernelspec": {
   "display_name": "Python [conda env:BCODMO-KG-data]",
   "language": "python",
   "name": "conda-env-BCODMO-KG-data-py"
  },
  "language_info": {
   "codemirror_mode": {
    "name": "ipython",
    "version": 3
   },
   "file_extension": ".py",
   "mimetype": "text/x-python",
   "name": "python",
   "nbconvert_exporter": "python",
   "pygments_lexer": "ipython3",
   "version": "3.7.6"
  },
  "toc": {
   "base_numbering": 1,
   "nav_menu": {
    "height": "268.978px",
    "width": "483.996px"
   },
   "number_sections": true,
   "sideBar": true,
   "skip_h1_title": false,
   "title_cell": "Table of Contents",
   "title_sidebar": "Contents",
   "toc_cell": false,
   "toc_position": {},
   "toc_section_display": true,
   "toc_window_display": false
  },
  "varInspector": {
   "cols": {
    "lenName": 16,
    "lenType": 16,
    "lenVar": 40
   },
   "kernels_config": {
    "python": {
     "delete_cmd_postfix": "",
     "delete_cmd_prefix": "del ",
     "library": "var_list.py",
     "varRefreshCmd": "print(var_dic_list())"
    },
    "r": {
     "delete_cmd_postfix": ") ",
     "delete_cmd_prefix": "rm(",
     "library": "var_list.r",
     "varRefreshCmd": "cat(var_dic_list()) "
    }
   },
   "types_to_exclude": [
    "module",
    "function",
    "builtin_function_or_method",
    "instance",
    "_Feature"
   ],
   "window_display": false
  }
 },
 "nbformat": 4,
 "nbformat_minor": 4
}
