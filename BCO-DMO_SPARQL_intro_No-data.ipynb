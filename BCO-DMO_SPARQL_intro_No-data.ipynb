{
 "cells": [
  {
   "cell_type": "code",
   "execution_count": null,
   "metadata": {
    "ExecuteTime": {
     "end_time": "2020-07-08T21:27:53.002261Z",
     "start_time": "2020-07-08T21:27:51.841935Z"
    }
   },
   "outputs": [],
   "source": [
    "import json\n",
    "import os\n",
    "import sys\n",
    "import rdflib\n",
    "from SPARQLWrapper import SPARQLWrapper, JSON\n",
    "import pandas as pd\n",
    "import numpy as np"
   ]
  },
  {
   "cell_type": "markdown",
   "metadata": {
    "ExecuteTime": {
     "end_time": "2020-06-22T04:50:57.372993Z",
     "start_time": "2020-06-22T04:50:57.370397Z"
    }
   },
   "source": [
    "## Setup SPARQL / Python Interface"
   ]
  },
  {
   "cell_type": "markdown",
   "metadata": {
    "ExecuteTime": {
     "end_time": "2020-06-22T04:51:53.573664Z",
     "start_time": "2020-06-22T04:51:53.567740Z"
    }
   },
   "source": [
    "### Define SPARQL Request Function"
   ]
  },
  {
   "cell_type": "code",
   "execution_count": null,
   "metadata": {
    "ExecuteTime": {
     "end_time": "2020-07-08T21:27:56.243862Z",
     "start_time": "2020-07-08T21:27:56.209578Z"
    }
   },
   "outputs": [],
   "source": [
    "#Credit - Doug Fils\n",
    "\n",
    "def get_sparql_dataframe(service, query):\n",
    "    \"\"\"\n",
    "    Helper function to convert SPARQL results into a Pandas data frame.\n",
    "    \"\"\"\n",
    "    sparql = SPARQLWrapper(service)\n",
    "    sparql.setQuery(query)\n",
    "    sparql.setReturnFormat(JSON)\n",
    "    result = sparql.query()\n",
    "\n",
    "    processed_results = json.load(result.response)\n",
    "    cols = processed_results['head']['vars']\n",
    "\n",
    "    out = []\n",
    "    for row in processed_results['results']['bindings']:\n",
    "        item = []\n",
    "        for c in cols:\n",
    "            item.append(row.get(c, {}).get('value'))\n",
    "        out.append(item)\n",
    "\n",
    "    return pd.DataFrame(out, columns=cols)"
   ]
  },
  {
   "cell_type": "markdown",
   "metadata": {},
   "source": [
    "### Set SPARQL Endpoint and base URIs"
   ]
  },
  {
   "cell_type": "code",
   "execution_count": null,
   "metadata": {
    "ExecuteTime": {
     "end_time": "2020-07-08T21:27:59.180344Z",
     "start_time": "2020-07-08T21:27:59.164598Z"
    }
   },
   "outputs": [],
   "source": [
    "BCODMO_SERVE = \"https://lod.bco-dmo.org/sparql\"  #BCO-DMO SPARQL Endpoint\n",
    "BCODMO_PREF = \"http://lod.bco-dmo.org/id/\"       #BCO-DMO URI base"
   ]
  },
  {
   "cell_type": "markdown",
   "metadata": {},
   "source": [
    "## Basic SPARQL Queries\n",
    "SPARQL is queried in as a string. Can define variables within SPARQL, then query result will be returned in dataframe format which can be used as python variables. Can also return SPARQL query in other formats (like straight json or lists). \n",
    "\n",
    "**NOTE:** The BCO-DMO SPARQL endpoint (like many public SPARQL endpoints) limits results to 10,000.\n",
    "\n",
    "Helpful SPARQL Cheat Sheet: http://www.iro.umontreal.ca/~lapalme/ift6281/sparql-1_1-cheat-sheet.pdf"
   ]
  },
  {
   "cell_type": "markdown",
   "metadata": {
    "ExecuteTime": {
     "end_time": "2020-06-22T05:03:28.357003Z",
     "start_time": "2020-06-22T05:03:28.349012Z"
    }
   },
   "source": [
    "### Properties (\"predicates\" in Subject-Predicate-Object model) in BCO-DMO\n",
    "\n",
    "Also see https://ocean-data.org/schema/ for ontology"
   ]
  },
  {
   "cell_type": "markdown",
   "metadata": {
    "ExecuteTime": {
     "end_time": "2020-06-22T04:57:29.632725Z",
     "start_time": "2020-06-22T04:57:29.628338Z"
    }
   },
   "source": [
    "#### List all the properties in the BCO-DMO Knowledge Graph"
   ]
  },
  {
   "cell_type": "code",
   "execution_count": null,
   "metadata": {
    "ExecuteTime": {
     "end_time": "2020-07-08T21:28:06.537114Z",
     "start_time": "2020-07-08T21:28:06.520930Z"
    }
   },
   "outputs": [],
   "source": [
    "propertyQuery = '''\n",
    "SELECT DISTINCT ?property\n",
    "WHERE { [] ?property [] }\n",
    "ORDER BY ?property\n",
    "'''"
   ]
  },
  {
   "cell_type": "code",
   "execution_count": null,
   "metadata": {
    "ExecuteTime": {
     "end_time": "2020-07-08T21:28:11.498629Z",
     "start_time": "2020-07-08T21:28:08.720395Z"
    }
   },
   "outputs": [],
   "source": [
    "propertySearch = get_sparql_dataframe(BCODMO_SERVE, propertyQuery)"
   ]
  },
  {
   "cell_type": "code",
   "execution_count": null,
   "metadata": {
    "ExecuteTime": {
     "end_time": "2020-07-08T21:28:14.852445Z",
     "start_time": "2020-07-08T21:28:11.558007Z"
    }
   },
   "outputs": [],
   "source": [
    "propertySearch.style.set_properties(**{'width': '600px'})"
   ]
  },
  {
   "cell_type": "markdown",
   "metadata": {},
   "source": [
    "#### Get more information about the properties"
   ]
  },
  {
   "cell_type": "code",
   "execution_count": null,
   "metadata": {
    "ExecuteTime": {
     "end_time": "2020-07-08T21:28:51.385046Z",
     "start_time": "2020-07-08T21:28:51.369202Z"
    }
   },
   "outputs": [],
   "source": [
    "propertyQuery = '''\n",
    "SELECT DISTINCT ?dataset_parameter ?masterParam\n",
    "WHERE { ?dataset_parameter odo:isInstanceOf ?masterParam  .\n",
    "}\n",
    "'''"
   ]
  },
  {
   "cell_type": "code",
   "execution_count": null,
   "metadata": {
    "ExecuteTime": {
     "end_time": "2020-07-08T21:28:59.950374Z",
     "start_time": "2020-07-08T21:28:52.389380Z"
    }
   },
   "outputs": [],
   "source": [
    "propertySearch = get_sparql_dataframe(BCODMO_SERVE, propertyQuery)"
   ]
  },
  {
   "cell_type": "code",
   "execution_count": null,
   "metadata": {
    "ExecuteTime": {
     "end_time": "2020-07-08T21:29:12.097861Z",
     "start_time": "2020-07-08T21:29:01.124703Z"
    }
   },
   "outputs": [],
   "source": [
    "propertySearch.style.set_properties(**{'width': '600px'})"
   ]
  },
  {
   "cell_type": "markdown",
   "metadata": {
    "ExecuteTime": {
     "end_time": "2020-06-22T06:07:54.955586Z",
     "start_time": "2020-06-22T06:07:54.952431Z"
    }
   },
   "source": [
    "#### Find out more about \"Monitored Properties\""
   ]
  },
  {
   "cell_type": "code",
   "execution_count": null,
   "metadata": {
    "ExecuteTime": {
     "end_time": "2020-07-08T21:29:25.700026Z",
     "start_time": "2020-07-08T21:29:25.692140Z"
    }
   },
   "outputs": [],
   "source": [
    "monitoredPropertiesQuery = '''\n",
    "SELECT DISTINCT ?masterParam ?shortDesc\n",
    "WHERE { \n",
    "?masterParam odo:hasParameterShortDescription ?shortDesc .\n",
    "?masterParam owl:deprecated 0 . #Binay - only show those that are not deprecated\n",
    "}\n",
    "ORDER BY ?masterParam'''"
   ]
  },
  {
   "cell_type": "code",
   "execution_count": null,
   "metadata": {
    "ExecuteTime": {
     "end_time": "2020-07-08T21:29:29.712429Z",
     "start_time": "2020-07-08T21:29:28.281398Z"
    }
   },
   "outputs": [],
   "source": [
    "monitoredPropertiesSearch = get_sparql_dataframe(BCODMO_SERVE, monitoredPropertiesQuery)"
   ]
  },
  {
   "cell_type": "code",
   "execution_count": null,
   "metadata": {
    "ExecuteTime": {
     "end_time": "2020-07-08T21:29:32.003830Z",
     "start_time": "2020-07-08T21:29:30.785727Z"
    }
   },
   "outputs": [],
   "source": [
    "monitoredPropertiesSearch.style.set_properties(**{'width': '600px'})"
   ]
  },
  {
   "cell_type": "markdown",
   "metadata": {},
   "source": [
    "#### DESCRIBE a monitored property"
   ]
  },
  {
   "cell_type": "code",
   "execution_count": null,
   "metadata": {
    "ExecuteTime": {
     "end_time": "2020-07-08T21:33:21.457005Z",
     "start_time": "2020-07-08T21:33:21.446950Z"
    }
   },
   "outputs": [],
   "source": [
    "monitoredPropertiesQuery = '''\n",
    "DESCRIBE <http://lod.bco-dmo.org/id/parameter/901>\n",
    "'''"
   ]
  },
  {
   "cell_type": "code",
   "execution_count": null,
   "metadata": {
    "ExecuteTime": {
     "end_time": "2020-07-08T21:34:34.663940Z",
     "start_time": "2020-07-08T21:34:33.669033Z"
    }
   },
   "outputs": [],
   "source": [
    "monitoredPropertiesSearch = get_sparql_dataframe(BCODMO_SERVE, monitoredPropertiesQuery)\n",
    "#ignore the error"
   ]
  },
  {
   "cell_type": "code",
   "execution_count": null,
   "metadata": {
    "ExecuteTime": {
     "end_time": "2020-07-08T21:34:41.976652Z",
     "start_time": "2020-07-08T21:34:41.580151Z"
    }
   },
   "outputs": [],
   "source": [
    "monitoredPropertiesSearch.style.set_properties(**{'width': '600px'})"
   ]
  },
  {
   "cell_type": "code",
   "execution_count": null,
   "metadata": {},
   "outputs": [],
   "source": []
  }
 ],
 "metadata": {
  "hide_input": false,
  "kernelspec": {
   "display_name": "Python [conda env:BCODMO-KG-data]",
   "language": "python",
   "name": "conda-env-BCODMO-KG-data-py"
  },
  "language_info": {
   "codemirror_mode": {
    "name": "ipython",
    "version": 3
   },
   "file_extension": ".py",
   "mimetype": "text/x-python",
   "name": "python",
   "nbconvert_exporter": "python",
   "pygments_lexer": "ipython3",
   "version": "3.7.6"
  },
  "toc": {
   "base_numbering": 1,
   "nav_menu": {
    "height": "268.978px",
    "width": "483.996px"
   },
   "number_sections": true,
   "sideBar": true,
   "skip_h1_title": false,
   "title_cell": "Table of Contents",
   "title_sidebar": "Contents",
   "toc_cell": false,
   "toc_position": {},
   "toc_section_display": true,
   "toc_window_display": false
  },
  "varInspector": {
   "cols": {
    "lenName": 16,
    "lenType": 16,
    "lenVar": 40
   },
   "kernels_config": {
    "python": {
     "delete_cmd_postfix": "",
     "delete_cmd_prefix": "del ",
     "library": "var_list.py",
     "varRefreshCmd": "print(var_dic_list())"
    },
    "r": {
     "delete_cmd_postfix": ") ",
     "delete_cmd_prefix": "rm(",
     "library": "var_list.r",
     "varRefreshCmd": "cat(var_dic_list()) "
    }
   },
   "types_to_exclude": [
    "module",
    "function",
    "builtin_function_or_method",
    "instance",
    "_Feature"
   ],
   "window_display": false
  }
 },
 "nbformat": 4,
 "nbformat_minor": 4
}
